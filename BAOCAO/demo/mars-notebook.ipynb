{
  "nbformat": 4,
  "nbformat_minor": 0,
  "metadata": {
    "colab": {
      "name": "MARS-Notebook.ipynb",
      "provenance": [],
      "collapsed_sections": []
    },
    "kernelspec": {
      "name": "python3",
      "display_name": "Python 3"
    }
  },
  "cells": [
    {
      "cell_type": "code",
      "metadata": {
        "colab": {
          "base_uri": "https://localhost:8080/"
        },
        "id": "vxQmTNcVWKuC",
        "outputId": "ca937f26-b4a2-4115-d600-3c039d110592"
      },
      "source": [
        "!pip install sklearn-contrib-py-earth"
      ],
      "execution_count": 1,
      "outputs": [
        {
          "output_type": "stream",
          "text": [
            "Collecting sklearn-contrib-py-earth\n",
            "\u001b[?25l  Downloading https://files.pythonhosted.org/packages/f8/c4/53a24835bafac880036446cc13839471a025b41de1436543f30d15d846c1/sklearn-contrib-py-earth-0.1.0.tar.gz (1.0MB)\n",
            "\u001b[K     |████████████████████████████████| 1.0MB 6.0MB/s \n",
            "\u001b[?25hRequirement already satisfied: scipy>=0.16 in /usr/local/lib/python3.6/dist-packages (from sklearn-contrib-py-earth) (1.4.1)\n",
            "Requirement already satisfied: scikit-learn>=0.16 in /usr/local/lib/python3.6/dist-packages (from sklearn-contrib-py-earth) (0.22.2.post1)\n",
            "Requirement already satisfied: six in /usr/local/lib/python3.6/dist-packages (from sklearn-contrib-py-earth) (1.15.0)\n",
            "Requirement already satisfied: numpy>=1.13.3 in /usr/local/lib/python3.6/dist-packages (from scipy>=0.16->sklearn-contrib-py-earth) (1.18.5)\n",
            "Requirement already satisfied: joblib>=0.11 in /usr/local/lib/python3.6/dist-packages (from scikit-learn>=0.16->sklearn-contrib-py-earth) (0.17.0)\n",
            "Building wheels for collected packages: sklearn-contrib-py-earth\n",
            "  Building wheel for sklearn-contrib-py-earth (setup.py) ... \u001b[?25l\u001b[?25hdone\n",
            "  Created wheel for sklearn-contrib-py-earth: filename=sklearn_contrib_py_earth-0.1.0-cp36-cp36m-linux_x86_64.whl size=3894153 sha256=f322021263d1ced7bc482a533a43be44c088df9dea3dc19b7d0812032114e0b0\n",
            "  Stored in directory: /root/.cache/pip/wheels/b7/8b/9c/4741513102ce3bd0f0227353dacdfbe9a5b0e47c261e45510b\n",
            "Successfully built sklearn-contrib-py-earth\n",
            "Installing collected packages: sklearn-contrib-py-earth\n",
            "Successfully installed sklearn-contrib-py-earth-0.1.0\n"
          ],
          "name": "stdout"
        }
      ]
    },
    {
      "cell_type": "code",
      "metadata": {
        "id": "QpQ7ESFvWw_-"
      },
      "source": [
        "import numpy as np\r\n",
        "import pandas as pd\r\n",
        "from sklearn.linear_model import LinearRegression\r\n",
        "from pyearth import Earth\r\n",
        "from sklearn.metrics import r2_score\r\n",
        "from sklearn.metrics import mean_squared_error\r\n",
        "import warnings"
      ],
      "execution_count": 2,
      "outputs": []
    },
    {
      "cell_type": "code",
      "metadata": {
        "id": "YlE0WD3UZkaL"
      },
      "source": [
        "warnings.filterwarnings(\"ignore\")"
      ],
      "execution_count": 3,
      "outputs": []
    },
    {
      "cell_type": "code",
      "metadata": {
        "id": "8jpM_x4KW7Q7"
      },
      "source": [
        "df = pd.read_csv(\"Data.csv\")"
      ],
      "execution_count": 4,
      "outputs": []
    },
    {
      "cell_type": "code",
      "metadata": {
        "colab": {
          "base_uri": "https://localhost:8080/",
          "height": 202
        },
        "id": "QbVJFa56XW98",
        "outputId": "fdf5d648-7447-4ba1-f5eb-64dfea89aa7e"
      },
      "source": [
        "df.head(5)"
      ],
      "execution_count": 5,
      "outputs": [
        {
          "output_type": "execute_result",
          "data": {
            "text/html": [
              "<div>\n",
              "<style scoped>\n",
              "    .dataframe tbody tr th:only-of-type {\n",
              "        vertical-align: middle;\n",
              "    }\n",
              "\n",
              "    .dataframe tbody tr th {\n",
              "        vertical-align: top;\n",
              "    }\n",
              "\n",
              "    .dataframe thead th {\n",
              "        text-align: right;\n",
              "    }\n",
              "</style>\n",
              "<table border=\"1\" class=\"dataframe\">\n",
              "  <thead>\n",
              "    <tr style=\"text-align: right;\">\n",
              "      <th></th>\n",
              "      <th>TV</th>\n",
              "      <th>radio</th>\n",
              "      <th>newspaper</th>\n",
              "      <th>sales</th>\n",
              "    </tr>\n",
              "  </thead>\n",
              "  <tbody>\n",
              "    <tr>\n",
              "      <th>0</th>\n",
              "      <td>230.1</td>\n",
              "      <td>37.8</td>\n",
              "      <td>69.2</td>\n",
              "      <td>22.1</td>\n",
              "    </tr>\n",
              "    <tr>\n",
              "      <th>1</th>\n",
              "      <td>44.5</td>\n",
              "      <td>39.3</td>\n",
              "      <td>45.1</td>\n",
              "      <td>10.4</td>\n",
              "    </tr>\n",
              "    <tr>\n",
              "      <th>2</th>\n",
              "      <td>17.2</td>\n",
              "      <td>45.9</td>\n",
              "      <td>69.3</td>\n",
              "      <td>9.3</td>\n",
              "    </tr>\n",
              "    <tr>\n",
              "      <th>3</th>\n",
              "      <td>151.5</td>\n",
              "      <td>41.3</td>\n",
              "      <td>58.5</td>\n",
              "      <td>18.5</td>\n",
              "    </tr>\n",
              "    <tr>\n",
              "      <th>4</th>\n",
              "      <td>180.8</td>\n",
              "      <td>10.8</td>\n",
              "      <td>58.4</td>\n",
              "      <td>12.9</td>\n",
              "    </tr>\n",
              "  </tbody>\n",
              "</table>\n",
              "</div>"
            ],
            "text/plain": [
              "      TV  radio  newspaper  sales\n",
              "0  230.1   37.8       69.2   22.1\n",
              "1   44.5   39.3       45.1   10.4\n",
              "2   17.2   45.9       69.3    9.3\n",
              "3  151.5   41.3       58.5   18.5\n",
              "4  180.8   10.8       58.4   12.9"
            ]
          },
          "metadata": {
            "tags": []
          },
          "execution_count": 5
        }
      ]
    },
    {
      "cell_type": "code",
      "metadata": {
        "id": "AdNkAL-VXlDC"
      },
      "source": [
        "target_col = \"sales\"\r\n",
        "X = df.loc[:, df.columns != target_col]\r\n",
        "y = df.loc[:, target_col]"
      ],
      "execution_count": 6,
      "outputs": []
    },
    {
      "cell_type": "markdown",
      "metadata": {
        "id": "8cSQ-aaZY-Lv"
      },
      "source": [
        "# Linear Regression Model"
      ]
    },
    {
      "cell_type": "code",
      "metadata": {
        "id": "h1zJS-dRXx-H"
      },
      "source": [
        "LR_model = LinearRegression()"
      ],
      "execution_count": 7,
      "outputs": []
    },
    {
      "cell_type": "code",
      "metadata": {
        "id": "57ZZyHKJYGmP"
      },
      "source": [
        "LR_Model_Fitted = LR_model.fit(X, y)"
      ],
      "execution_count": 8,
      "outputs": []
    },
    {
      "cell_type": "code",
      "metadata": {
        "colab": {
          "base_uri": "https://localhost:8080/"
        },
        "id": "vLc-HAQZYG5X",
        "outputId": "db9f630e-2810-4572-9fc0-28ac076bf6dc"
      },
      "source": [
        "print(\"Intercept: \", LR_Model_Fitted.intercept_)\r\n",
        "print(\"Slope: \", LR_Model_Fitted.coef_)"
      ],
      "execution_count": 9,
      "outputs": [
        {
          "output_type": "stream",
          "text": [
            "Intercept:  2.938889369459412\n",
            "Slope:  [ 0.04576465  0.18853002 -0.00103749]\n"
          ],
          "name": "stdout"
        }
      ]
    },
    {
      "cell_type": "code",
      "metadata": {
        "id": "P_rnbsMkYZkR"
      },
      "source": [
        "y_pred = LR_Model_Fitted.predict(X)"
      ],
      "execution_count": 10,
      "outputs": []
    },
    {
      "cell_type": "code",
      "metadata": {
        "colab": {
          "base_uri": "https://localhost:8080/"
        },
        "id": "O1yPDLoKYKH8",
        "outputId": "7e60e354-6a4b-41f8-a99a-e2bbb6db856a"
      },
      "source": [
        "r2_score(y, y_pred)"
      ],
      "execution_count": 11,
      "outputs": [
        {
          "output_type": "execute_result",
          "data": {
            "text/plain": [
              "0.8972106381789522"
            ]
          },
          "metadata": {
            "tags": []
          },
          "execution_count": 11
        }
      ]
    },
    {
      "cell_type": "code",
      "metadata": {
        "colab": {
          "base_uri": "https://localhost:8080/"
        },
        "id": "-6p61BdqZWn1",
        "outputId": "d8227bab-eb9f-4606-a32d-69ad125ef644"
      },
      "source": [
        "mean_squared_error(y, y_pred)"
      ],
      "execution_count": 12,
      "outputs": [
        {
          "output_type": "execute_result",
          "data": {
            "text/plain": [
              "2.784126314510936"
            ]
          },
          "metadata": {
            "tags": []
          },
          "execution_count": 12
        }
      ]
    },
    {
      "cell_type": "markdown",
      "metadata": {
        "id": "7BSBfpa4ZA1c"
      },
      "source": [
        "# MARS Regression Model"
      ]
    },
    {
      "cell_type": "code",
      "metadata": {
        "id": "3TYmqhLIYf2c"
      },
      "source": [
        "MARS_model = Earth(max_terms=500, max_degree=1)"
      ],
      "execution_count": 13,
      "outputs": []
    },
    {
      "cell_type": "code",
      "metadata": {
        "id": "TI9VY9maYi1P"
      },
      "source": [
        "MARS_model_fitted = MARS_model.fit(X, y)"
      ],
      "execution_count": 14,
      "outputs": []
    },
    {
      "cell_type": "code",
      "metadata": {
        "id": "uXv3q1P9Ywpy"
      },
      "source": [
        "y_pred_mars = MARS_model_fitted.predict(X)"
      ],
      "execution_count": 15,
      "outputs": []
    },
    {
      "cell_type": "code",
      "metadata": {
        "colab": {
          "base_uri": "https://localhost:8080/"
        },
        "id": "PF-kaR1hY0VB",
        "outputId": "8f816172-1735-4c8f-9dba-bd3152f368a9"
      },
      "source": [
        "r2_score(y, y_pred_mars)"
      ],
      "execution_count": 16,
      "outputs": [
        {
          "output_type": "execute_result",
          "data": {
            "text/plain": [
              "0.9334092102385019"
            ]
          },
          "metadata": {
            "tags": []
          },
          "execution_count": 16
        }
      ]
    },
    {
      "cell_type": "code",
      "metadata": {
        "colab": {
          "base_uri": "https://localhost:8080/"
        },
        "id": "-iC1KX4jY6oV",
        "outputId": "8011cef7-1c59-49c7-c689-b748688fb084"
      },
      "source": [
        "mean_squared_error(y, y_pred_mars)"
      ],
      "execution_count": 17,
      "outputs": [
        {
          "output_type": "execute_result",
          "data": {
            "text/plain": [
              "1.8036610675900635"
            ]
          },
          "metadata": {
            "tags": []
          },
          "execution_count": 17
        }
      ]
    },
    {
      "cell_type": "code",
      "metadata": {
        "colab": {
          "base_uri": "https://localhost:8080/"
        },
        "id": "Od4rCpV9ZagF",
        "outputId": "07c04870-1561-42da-b3b3-06995b21d384"
      },
      "source": [
        "print(MARS_model_fitted.summary())"
      ],
      "execution_count": 18,
      "outputs": [
        {
          "output_type": "stream",
          "text": [
            "Earth Model\n",
            "-------------------------------------\n",
            "Basis Function  Pruned  Coefficient  \n",
            "-------------------------------------\n",
            "(Intercept)     No      12.9872      \n",
            "h(TV-23.8)      No      0.0623451    \n",
            "h(23.8-TV)      No      -0.250065    \n",
            "radio           Yes     None         \n",
            "h(TV-89.7)      No      -0.0269334   \n",
            "h(89.7-TV)      Yes     None         \n",
            "h(radio-47)     No      0.682929     \n",
            "h(47-radio)     No      -0.191718    \n",
            "h(radio-44.5)   Yes     None         \n",
            "h(44.5-radio)   Yes     None         \n",
            "-------------------------------------\n",
            "MSE: 1.8037, GCV: 2.0742, RSQ: 0.9334, GRSQ: 0.9242\n"
          ],
          "name": "stdout"
        }
      ]
    }
  ]
}